{
 "cells": [
  {
   "cell_type": "code",
   "execution_count": 1,
   "metadata": {
    "collapsed": true
   },
   "outputs": [],
   "source": [
    "# File Load Function\n",
    "load_data <- function() {\n",
    "\n",
    "file_name <- '~/work/Data/household_power_consumption.txt'\n",
    "filter_dates <- as.Date(c('01/02/2007', '02/02/2007'), \"%d/%m/%Y\")\n",
    "\n",
    "# Load the file\n",
    "  household_power_consumption_df <- read.table(file_name, header = T, sep = \";\", na.strings = \"?\", colClasses = c('character', 'character', rep('numeric',7)))\n",
    "\n",
    "# Convert Date and Time columns  \n",
    "  household_power_consumption_df$Time <- strptime(paste(household_power_consumption_df$Date, household_power_consumption_df$Time), \"%d/%m/%Y %H:%M:%S\")\n",
    "  household_power_consumption_df$Date <- as.Date(household_power_consumption_df$Date, \"%d/%m/%Y\")\n",
    "\n",
    "# Extract the select rows\n",
    "  household_power_consumption_df <- subset.data.frame(household_power_consumption_df, Date %in% filter_dates)\n",
    "  \n",
    "  return(household_power_consumption_df)\n",
    "}"
   ]
  },
  {
   "cell_type": "code",
   "execution_count": 4,
   "metadata": {
    "collapsed": false
   },
   "outputs": [
    {
     "name": "stderr",
     "output_type": "stream",
     "text": [
      "Warning message:\n",
      "In file(file, \"rt\"): cannot open file 'household_power_consumption.txt': No such file or directory"
     ]
    },
    {
     "ename": "ERROR",
     "evalue": "Error in file(file, \"rt\"): cannot open the connection\n",
     "output_type": "error",
     "traceback": [
      "Error in file(file, \"rt\"): cannot open the connection\n"
     ]
    },
    {
     "ename": "ERROR",
     "evalue": "Error in hist(plot_data$Global_active_power, main = \"Global Active Power\", : object 'plot_data' not found\n",
     "output_type": "error",
     "traceback": [
      "Error in hist(plot_data$Global_active_power, main = \"Global Active Power\", : object 'plot_data' not found\n"
     ]
    },
    {
     "data": {
      "text/html": [
       "<strong>pdf:</strong> 2"
      ],
      "text/latex": [
       "\\textbf{pdf:} 2"
      ],
      "text/markdown": [
       "**pdf:** 2"
      ],
      "text/plain": [
       "pdf \n",
       "  2 "
      ]
     },
     "execution_count": 4,
     "metadata": {},
     "output_type": "execute_result"
    }
   ],
   "source": [
    "##\n",
    "## R Script for plot #1\n",
    "## \n",
    "\n",
    "# Load the data (specific days)\n",
    "plot_data <- load_data()\n",
    "\n",
    "# Open a png device  \n",
    "png(\"~/work/Figures/plot1.png\", width=480, height=480)\n",
    "\n",
    "# Plot the histogram for Global_active_power  \n",
    "hist(plot_data$Global_active_power,\n",
    "    main=\"Global Active Power\",\n",
    "    xlab=\"Global Active Power (kilowatts)\",\n",
    "    ylab=\"Frequency\",\n",
    "    col=\"red\")\n",
    "\n",
    "# Turn off the devices  \n",
    "dev.off()"
   ]
  },
  {
   "cell_type": "code",
   "execution_count": null,
   "metadata": {
    "collapsed": true
   },
   "outputs": [],
   "source": []
  }
 ],
 "metadata": {
  "kernelspec": {
   "display_name": "R",
   "language": "R",
   "name": "ir"
  },
  "language_info": {
   "codemirror_mode": "r",
   "file_extension": ".r",
   "mimetype": "text/x-r-source",
   "name": "R",
   "pygments_lexer": "r",
   "version": "3.2.2"
  }
 },
 "nbformat": 4,
 "nbformat_minor": 0
}
